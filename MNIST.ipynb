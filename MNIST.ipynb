{
  "nbformat": 4,
  "nbformat_minor": 0,
  "metadata": {
    "colab": {
      "provenance": []
    },
    "kernelspec": {
      "name": "python3",
      "display_name": "Python 3"
    },
    "language_info": {
      "name": "python"
    }
  },
  "cells": [
    {
      "cell_type": "code",
      "execution_count": 1,
      "metadata": {
        "id": "bScJbjIS7lPP"
      },
      "outputs": [],
      "source": [
        "import tensorflow\n",
        "from tensorflow import keras\n",
        "from tensorflow.keras import Sequential\n",
        "from tensorflow.keras.layers import Dense,Flatten"
      ]
    },
    {
      "cell_type": "code",
      "source": [
        "(X_train,y_train),(X_test,y_test) = keras.datasets.mnist.load_data()"
      ],
      "metadata": {
        "colab": {
          "base_uri": "https://localhost:8080/"
        },
        "id": "I7iNm4-v92_s",
        "outputId": "b37594b4-1281-4849-aa8b-70d5acbf29a9"
      },
      "execution_count": 2,
      "outputs": [
        {
          "output_type": "stream",
          "name": "stdout",
          "text": [
            "Downloading data from https://storage.googleapis.com/tensorflow/tf-keras-datasets/mnist.npz\n",
            "11490434/11490434 [==============================] - 0s 0us/step\n"
          ]
        }
      ]
    },
    {
      "cell_type": "code",
      "source": [
        "\n",
        "X_test.shape"
      ],
      "metadata": {
        "colab": {
          "base_uri": "https://localhost:8080/"
        },
        "id": "DKN1Ymdy__iK",
        "outputId": "04e1a6b8-1cd2-4f25-854c-af1407d29642"
      },
      "execution_count": 3,
      "outputs": [
        {
          "output_type": "execute_result",
          "data": {
            "text/plain": [
              "(10000, 28, 28)"
            ]
          },
          "metadata": {},
          "execution_count": 3
        }
      ]
    },
    {
      "cell_type": "code",
      "source": [
        "y_train"
      ],
      "metadata": {
        "colab": {
          "base_uri": "https://localhost:8080/"
        },
        "id": "Fz26KzupJ3B0",
        "outputId": "44dd9046-9981-4b0a-c3c6-04b3f01e828a"
      },
      "execution_count": 4,
      "outputs": [
        {
          "output_type": "execute_result",
          "data": {
            "text/plain": [
              "array([5, 0, 4, ..., 5, 6, 8], dtype=uint8)"
            ]
          },
          "metadata": {},
          "execution_count": 4
        }
      ]
    },
    {
      "cell_type": "code",
      "source": [
        "import matplotlib.pyplot as plt\n",
        "plt.imshow(X_train[7])"
      ],
      "metadata": {
        "colab": {
          "base_uri": "https://localhost:8080/",
          "height": 447
        },
        "id": "45VSbh-HJ52j",
        "outputId": "5feae663-7115-4315-b294-cf99027fde95"
      },
      "execution_count": 5,
      "outputs": [
        {
          "output_type": "execute_result",
          "data": {
            "text/plain": [
              "<matplotlib.image.AxesImage at 0x78f5d7efa740>"
            ]
          },
          "metadata": {},
          "execution_count": 5
        },
        {
          "output_type": "display_data",
          "data": {
            "text/plain": [
              "<Figure size 640x480 with 1 Axes>"
            ],
            "image/png": "[encoded data removed]"
          },
          "metadata": {}
        }
      ]
    },
    {
      "cell_type": "code",
      "source": [
        "X_train = X_train/255\n",
        "X_test = X_test/255"
      ],
      "metadata": {
        "id": "j8yzMVHAJ98b"
      },
      "execution_count": 6,
      "outputs": []
    },
    {
      "cell_type": "code",
      "source": [
        "model = Sequential()\n",
        "\n",
        "model.add(Flatten(input_shape=(28,28)))\n",
        "model.add(Dense(128,activation='relu'))\n",
        "model.add(Dense(56,activation='relu'))\n",
        "model.add(Dense(32,activation='relu'))\n",
        "model.add(Dense(10,activation='softmax'))"
      ],
      "metadata": {
        "id": "526lSbckKA44"
      },
      "execution_count": 20,
      "outputs": []
    },
    {
      "cell_type": "code",
      "source": [
        "model.summary()"
      ],
      "metadata": {
        "colab": {
          "base_uri": "https://localhost:8080/"
        },
        "id": "8Z55JV5hKNFG",
        "outputId": "a02f032f-1a70-4654-c4a6-8b4f4e0096d6"
      },
      "execution_count": 21,
      "outputs": [
        {
          "output_type": "stream",
          "name": "stdout",
          "text": [
            "Model: \"sequential_1\"\n",
            "_________________________________________________________________\n",
            " Layer (type)                Output Shape              Param #   \n",
            "=================================================================\n",
            " flatten_1 (Flatten)         (None, 784)               0         \n",
            "                                                                 \n",
            " dense_4 (Dense)             (None, 128)               100480    \n",
            "                                                                 \n",
            " dense_5 (Dense)             (None, 56)                7224      \n",
            "                                                                 \n",
            " dense_6 (Dense)             (None, 32)                1824      \n",
            "                                                                 \n",
            " dense_7 (Dense)             (None, 10)                330       \n",
            "                                                                 \n",
            "=================================================================\n",
            "Total params: 109858 (429.13 KB)\n",
            "Trainable params: 109858 (429.13 KB)\n",
            "Non-trainable params: 0 (0.00 Byte)\n",
            "_________________________________________________________________\n"
          ]
        }
      ]
    },
    {
      "cell_type": "code",
      "source": [
        "model.compile(loss='sparse_categorical_crossentropy',optimizer='Adam',metrics=['accuracy'])"
      ],
      "metadata": {
        "id": "W5KwT0HiKQLV"
      },
      "execution_count": 22,
      "outputs": []
    },
    {
      "cell_type": "code",
      "source": [
        "history = model.fit(X_train,y_train,epochs=20,validation_split=0.2)"
      ],
      "metadata": {
        "colab": {
          "base_uri": "https://localhost:8080/"
        },
        "id": "EEPi2qF_KXTl",
        "outputId": "c7ca74ca-40c3-4d58-e33d-88bae11b7f77"
      },
      "execution_count": 23,
      "outputs": [
        {
          "output_type": "stream",
          "name": "stdout",
          "text": [
            "Epoch 1/20\n",
            "1500/1500 [==============================] - 6s 3ms/step - loss: 0.2845 - accuracy: 0.9159 - val_loss: 0.1648 - val_accuracy: 0.9511\n",
            "Epoch 2/20\n",
            "1500/1500 [==============================] - 7s 5ms/step - loss: 0.1207 - accuracy: 0.9629 - val_loss: 0.1168 - val_accuracy: 0.9665\n",
            "Epoch 3/20\n",
            "1500/1500 [==============================] - 5s 4ms/step - loss: 0.0854 - accuracy: 0.9736 - val_loss: 0.1086 - val_accuracy: 0.9683\n",
            "Epoch 4/20\n",
            "1500/1500 [==============================] - 7s 5ms/step - loss: 0.0675 - accuracy: 0.9793 - val_loss: 0.1097 - val_accuracy: 0.9673\n",
            "Epoch 5/20\n",
            "1500/1500 [==============================] - 5s 4ms/step - loss: 0.0514 - accuracy: 0.9833 - val_loss: 0.0972 - val_accuracy: 0.9748\n",
            "Epoch 6/20\n",
            "1500/1500 [==============================] - 7s 4ms/step - loss: 0.0409 - accuracy: 0.9863 - val_loss: 0.1101 - val_accuracy: 0.9719\n",
            "Epoch 7/20\n",
            "1500/1500 [==============================] - 5s 4ms/step - loss: 0.0381 - accuracy: 0.9869 - val_loss: 0.1258 - val_accuracy: 0.9693\n",
            "Epoch 8/20\n",
            "1500/1500 [==============================] - 7s 4ms/step - loss: 0.0317 - accuracy: 0.9899 - val_loss: 0.1517 - val_accuracy: 0.9643\n",
            "Epoch 9/20\n",
            "1500/1500 [==============================] - 5s 4ms/step - loss: 0.0275 - accuracy: 0.9914 - val_loss: 0.1080 - val_accuracy: 0.9738\n",
            "Epoch 10/20\n",
            "1500/1500 [==============================] - 7s 4ms/step - loss: 0.0227 - accuracy: 0.9923 - val_loss: 0.1145 - val_accuracy: 0.9732\n",
            "Epoch 11/20\n",
            "1500/1500 [==============================] - 6s 4ms/step - loss: 0.0214 - accuracy: 0.9928 - val_loss: 0.1164 - val_accuracy: 0.9749\n",
            "Epoch 12/20\n",
            "1500/1500 [==============================] - 7s 5ms/step - loss: 0.0204 - accuracy: 0.9936 - val_loss: 0.1174 - val_accuracy: 0.9751\n",
            "Epoch 13/20\n",
            "1500/1500 [==============================] - 7s 5ms/step - loss: 0.0199 - accuracy: 0.9934 - val_loss: 0.1500 - val_accuracy: 0.9680\n",
            "Epoch 14/20\n",
            "1500/1500 [==============================] - 7s 4ms/step - loss: 0.0159 - accuracy: 0.9951 - val_loss: 0.1256 - val_accuracy: 0.9737\n",
            "Epoch 15/20\n",
            "1500/1500 [==============================] - 5s 4ms/step - loss: 0.0156 - accuracy: 0.9949 - val_loss: 0.1343 - val_accuracy: 0.9741\n",
            "Epoch 16/20\n",
            "1500/1500 [==============================] - 6s 4ms/step - loss: 0.0175 - accuracy: 0.9942 - val_loss: 0.1287 - val_accuracy: 0.9772\n",
            "Epoch 17/20\n",
            "1500/1500 [==============================] - 5s 4ms/step - loss: 0.0152 - accuracy: 0.9952 - val_loss: 0.1477 - val_accuracy: 0.9753\n",
            "Epoch 18/20\n",
            "1500/1500 [==============================] - 6s 4ms/step - loss: 0.0151 - accuracy: 0.9952 - val_loss: 0.1342 - val_accuracy: 0.9761\n",
            "Epoch 19/20\n",
            "1500/1500 [==============================] - 6s 4ms/step - loss: 0.0111 - accuracy: 0.9961 - val_loss: 0.1372 - val_accuracy: 0.9743\n",
            "Epoch 20/20\n",
            "1500/1500 [==============================] - 7s 5ms/step - loss: 0.0133 - accuracy: 0.9958 - val_loss: 0.1362 - val_accuracy: 0.9756\n"
          ]
        }
      ]
    },
    {
      "cell_type": "code",
      "source": [
        "y_prob = model.predict(X_test)"
      ],
      "metadata": {
        "colab": {
          "base_uri": "https://localhost:8080/"
        },
        "id": "8Adrm-5fKaft",
        "outputId": "02de8229-808f-4127-924f-df2b68684d97"
      },
      "execution_count": 24,
      "outputs": [
        {
          "output_type": "stream",
          "name": "stdout",
          "text": [
            "313/313 [==============================] - 1s 1ms/step\n"
          ]
        }
      ]
    },
    {
      "cell_type": "code",
      "source": [
        "y_pred = y_prob.argmax(axis=1)"
      ],
      "metadata": {
        "id": "kHId1crtLQMB"
      },
      "execution_count": 25,
      "outputs": []
    },
    {
      "cell_type": "code",
      "source": [
        "from sklearn.metrics import accuracy_score\n",
        "accuracy_score(y_test,y_pred)"
      ],
      "metadata": {
        "colab": {
          "base_uri": "https://localhost:8080/"
        },
        "id": "5X44CzdHLSNQ",
        "outputId": "c712fb9d-d86c-494c-eeea-48635c4a5138"
      },
      "execution_count": 26,
      "outputs": [
        {
          "output_type": "execute_result",
          "data": {
            "text/plain": [
              "0.9798"
            ]
          },
          "metadata": {},
          "execution_count": 26
        }
      ]
    },
    {
      "cell_type": "code",
      "source": [
        "plt.plot(history.history['loss'])\n",
        "plt.plot(history.history['val_loss'])"
      ],
      "metadata": {
        "colab": {
          "base_uri": "https://localhost:8080/",
          "height": 447
        },
        "id": "CukLh_jDLTxD",
        "outputId": "67245734-8dd4-4319-b8ca-1249c9d970e4"
      },
      "execution_count": 27,
      "outputs": [
        {
          "output_type": "execute_result",
          "data": {
            "text/plain": [
              "[<matplotlib.lines.Line2D at 0x78f5b77f2500>]"
            ]
          },
          "metadata": {},
          "execution_count": 27
        },
        {
          "output_type": "display_data",
          "data": {
            "text/plain": [
              "<Figure size 640x480 with 1 Axes>"
            ],
            "image/png": "[encoded data removed]"
          },
          "metadata": {}
        }
      ]
    },
    {
      "cell_type": "code",
      "source": [
        "plt.plot(history.history['accuracy'])\n",
        "plt.plot(history.history['val_accuracy'])"
      ],
      "metadata": {
        "colab": {
          "base_uri": "https://localhost:8080/",
          "height": 452
        },
        "id": "a1MtXMdhLWYK",
        "outputId": "d0a2d1a1-32f0-4ea5-8cb0-54f8d46ea2b7"
      },
      "execution_count": 28,
      "outputs": [
        {
          "output_type": "execute_result",
          "data": {
            "text/plain": [
              "[<matplotlib.lines.Line2D at 0x78f5b76a0b80>]"
            ]
          },
          "metadata": {},
          "execution_count": 28
        },
        {
          "output_type": "display_data",
          "data": {
            "text/plain": [
              "<Figure size 640x480 with 1 Axes>"
            ],
            "image/png": "[encoded data removed]"
          },
          "metadata": {}
        }
      ]
    },
    {
      "cell_type": "code",
      "source": [
        "plt.imshow(X_test[4])"
      ],
      "metadata": {
        "colab": {
          "base_uri": "https://localhost:8080/",
          "height": 447
        },
        "id": "pLnnLtvNLZD1",
        "outputId": "ae1e0c30-edab-4a47-de7d-28a2b4daf5a4"
      },
      "execution_count": 29,
      "outputs": [
        {
          "output_type": "execute_result",
          "data": {
            "text/plain": [
              "<matplotlib.image.AxesImage at 0x78f5b76f0d60>"
            ]
          },
          "metadata": {},
          "execution_count": 29
        },
        {
          "output_type": "display_data",
          "data": {
            "text/plain": [
              "<Figure size 640x480 with 1 Axes>"
            ],
            "image/png": "[encoded data removed]"
          },
          "metadata": {}
        }
      ]
    },
    {
      "cell_type": "code",
      "source": [
        "model.predict(X_test[4].reshape(1,28,28)).argmax(axis=1)"
      ],
      "metadata": {
        "colab": {
          "base_uri": "https://localhost:8080/"
        },
        "id": "kKFQ5nEuLbXT",
        "outputId": "62cf319e-3b17-4029-ecbe-a07e5d1a2175"
      },
      "execution_count": 30,
      "outputs": [
        {
          "output_type": "stream",
          "name": "stdout",
          "text": [
            "1/1 [==============================] - 0s 21ms/step\n"
          ]
        },
        {
          "output_type": "execute_result",
          "data": {
            "text/plain": [
              "array([4])"
            ]
          },
          "metadata": {},
          "execution_count": 30
        }
      ]
    },
    {
      "cell_type": "code",
      "source": [],
      "metadata": {
        "id": "LCSIOBHCLh7_"
      },
      "execution_count": 30,
      "outputs": []
    }
  ]
}